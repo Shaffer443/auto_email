{
 "cells": [
  {
   "cell_type": "code",
   "execution_count": null,
   "id": "7d753468",
   "metadata": {},
   "outputs": [],
   "source": [
    "Automatizando Envio de Emails\n",
    "\n",
    "Premissa incial de enviar emails de forma altomatica.\n",
    "\n",
    "Configurado para o LINUX !\n",
    "\n",
    "Fase 1:\n",
    "    \n",
    "    Manualmente:\n",
    "        \n",
    "        1.1 - Solicitar Quatidade de email(s)(Facultativo?)\n",
    "        1.2 - Solicitar email(s)\n",
    "        2.1 - Abrir Navegador alvo\n",
    "        2.2 - Entrar na página para envio do email (ex: www.google.com.br)\n",
    "        2.3 - Local para envio de email (clicks - local na página)\n",
    "        3.1 - Preencher o destinatário\n",
    "        3.2 - Preencher Assunto\n",
    "        3.3 - Preencher Corpo do Email.\n",
    "        3.4 - Anexar arquivo (currículo)\n",
    "        4.1 - Envio do email.\n",
    "        \n",
    "    \n",
    "    Automática (Busca das vagas e envio automático)"
   ]
  },
  {
   "cell_type": "code",
   "execution_count": 2,
   "id": "69d1b2b2",
   "metadata": {},
   "outputs": [
    {
     "name": "stdout",
     "output_type": "stream",
     "text": [
      "Collecting pyautogui\n",
      "  Using cached PyAutoGUI-0.9.53.tar.gz (59 kB)\n",
      "Collecting pymsgbox\n",
      "  Using cached PyMsgBox-1.0.9.tar.gz (18 kB)\n",
      "  Installing build dependencies ... \u001b[?25ldone\n",
      "\u001b[?25h  Getting requirements to build wheel ... \u001b[?25ldone\n",
      "\u001b[?25h    Preparing wheel metadata ... \u001b[?25ldone\n",
      "\u001b[?25hCollecting PyTweening>=1.0.1\n",
      "  Using cached pytweening-1.0.4.tar.gz (14 kB)\n",
      "Collecting pyscreeze>=0.1.21\n",
      "  Using cached PyScreeze-0.1.28.tar.gz (25 kB)\n",
      "  Installing build dependencies ... \u001b[?25ldone\n",
      "\u001b[?25h  Getting requirements to build wheel ... \u001b[?25ldone\n",
      "\u001b[?25h    Preparing wheel metadata ... \u001b[?25ldone\n",
      "\u001b[?25hCollecting pygetwindow>=0.0.5\n",
      "  Using cached PyGetWindow-0.0.9.tar.gz (9.7 kB)\n",
      "Collecting mouseinfo\n",
      "  Using cached MouseInfo-0.1.3.tar.gz (10 kB)\n",
      "Collecting python3-Xlib\n",
      "  Downloading python3-xlib-0.15.tar.gz (132 kB)\n",
      "\u001b[K     |████████████████████████████████| 132 kB 576 kB/s eta 0:00:01\n",
      "\u001b[?25hCollecting pyrect\n",
      "  Using cached PyRect-0.1.4.tar.gz (15 kB)\n",
      "Collecting pyperclip\n",
      "  Using cached pyperclip-1.8.2.tar.gz (20 kB)\n",
      "Building wheels for collected packages: pyautogui, pygetwindow, pyscreeze, PyTweening, mouseinfo, pymsgbox, pyperclip, pyrect, python3-Xlib\n",
      "  Building wheel for pyautogui (setup.py) ... \u001b[?25ldone\n",
      "\u001b[?25h  Created wheel for pyautogui: filename=PyAutoGUI-0.9.53-py3-none-any.whl size=36613 sha256=f92075160f9e646c2ebe00db3ce70cab9568d39d14bd3b20a17dcb1f5495e87c\n",
      "  Stored in directory: /home/shaffer/.cache/pip/wheels/d8/97/e4/d2edca92a87d3b5fbfb527264750a17b4ba297b9a7cab6e67f\n",
      "  Building wheel for pygetwindow (setup.py) ... \u001b[?25ldone\n",
      "\u001b[?25h  Created wheel for pygetwindow: filename=PyGetWindow-0.0.9-py3-none-any.whl size=11080 sha256=338d6bd5d63e1ac7a4880c06bd0351b69d4fa55c5ddecb94563664804135bb1b\n",
      "  Stored in directory: /home/shaffer/.cache/pip/wheels/44/ab/20/423c3a444793767e4e41f8377bc902f77bee212e68dcce85a5\n",
      "  Building wheel for pyscreeze (PEP 517) ... \u001b[?25ldone\n",
      "\u001b[?25h  Created wheel for pyscreeze: filename=PyScreeze-0.1.28-py3-none-any.whl size=13021 sha256=71efa2b76b17b5e79097828c0b522a60b8a5d3c23e1826984ff2b7ea8f03ef02\n",
      "  Stored in directory: /home/shaffer/.cache/pip/wheels/a2/5b/86/99f1d8fac5d92de0ccb3f0d4ad15e3f4278baf75a9b0f20b93\n",
      "  Building wheel for PyTweening (setup.py) ... \u001b[?25ldone\n",
      "\u001b[?25h  Created wheel for PyTweening: filename=pytweening-1.0.4-py3-none-any.whl size=5854 sha256=088fe8a13cc4e0858c62a8ede146d186c6589b4a02c2a3ece4e31e4f7995c981\n",
      "  Stored in directory: /home/shaffer/.cache/pip/wheels/a4/5d/d2/ba4c8f82163233ffaadcf383c1e34d7d92635d357d13e7b78d\n",
      "  Building wheel for mouseinfo (setup.py) ... \u001b[?25ldone\n",
      "\u001b[?25h  Created wheel for mouseinfo: filename=MouseInfo-0.1.3-py3-none-any.whl size=10906 sha256=123b4549678e6be0b09afb8cbb5deacb646d0511728ceeb530938ff0af9f94ef\n",
      "  Stored in directory: /home/shaffer/.cache/pip/wheels/61/73/b9/6fb1131ab36e650206e3aa0ad7a68907b41b32ac2d4f75f543\n",
      "  Building wheel for pymsgbox (PEP 517) ... \u001b[?25ldone\n",
      "\u001b[?25h  Created wheel for pymsgbox: filename=PyMsgBox-1.0.9-py3-none-any.whl size=7420 sha256=c062747eb7f3edb160460d964a96cd786c2b9f68418ab9267b4138fcce753fc8\n",
      "  Stored in directory: /home/shaffer/.cache/pip/wheels/7f/13/8c/584c519464297d9637f9cd29fd1dcdf55e2a2cab225c76a2db\n",
      "  Building wheel for pyperclip (setup.py) ... \u001b[?25ldone\n",
      "\u001b[?25h  Created wheel for pyperclip: filename=pyperclip-1.8.2-py3-none-any.whl size=11136 sha256=7e9e48674051c7f9ebbe9eb42858bdeb32b5fcc58d1dd2c7c1404ca9e10d8168\n",
      "  Stored in directory: /home/shaffer/.cache/pip/wheels/0c/09/9e/49e21a6840ef7955b06d47394afef0058f0378c0914e48b8b8\n",
      "  Building wheel for pyrect (setup.py) ... \u001b[?25ldone\n",
      "\u001b[?25h  Created wheel for pyrect: filename=PyRect-0.1.4-py2.py3-none-any.whl size=9547 sha256=2a1ac2ac019a2dc9712ea0324e5ad482f37d4498e8bc54486277e0c2103b37f7\n",
      "  Stored in directory: /home/shaffer/.cache/pip/wheels/0e/d4/c5/b7f7be24ac0a168fd03d08afcc7c8928ef05cc1e319d1c136b\n",
      "  Building wheel for python3-Xlib (setup.py) ... \u001b[?25ldone\n",
      "\u001b[?25h  Created wheel for python3-Xlib: filename=python3_xlib-0.15-py3-none-any.whl size=109517 sha256=8e30f6b801813afbc8b7e0ddfecac96c6c06f0c6d43567204ded8592a9c3c4e9\n",
      "  Stored in directory: /home/shaffer/.cache/pip/wheels/e8/f5/f4/4c7032e17a250a7327c4fa4d4807452558e04487c783bcde39\n",
      "Successfully built pyautogui pygetwindow pyscreeze PyTweening mouseinfo pymsgbox pyperclip pyrect python3-Xlib\n",
      "Installing collected packages: python3-Xlib, pyrect, pyperclip, PyTweening, pyscreeze, pymsgbox, pygetwindow, mouseinfo, pyautogui\n",
      "Successfully installed PyTweening-1.0.4 mouseinfo-0.1.3 pyautogui-0.9.53 pygetwindow-0.0.9 pymsgbox-1.0.9 pyperclip-1.8.2 pyrect-0.1.4 pyscreeze-0.1.28 python3-Xlib-0.15\n"
     ]
    }
   ],
   "source": [
    "# Intalações de bibliotecas pyautogui:\n",
    "\n",
    "!pip install pyautogui\n",
    "\n"
   ]
  },
  {
   "cell_type": "code",
   "execution_count": 5,
   "id": "92ffe146",
   "metadata": {
    "scrolled": true
   },
   "outputs": [
    {
     "name": "stdout",
     "output_type": "stream",
     "text": [
      "Collecting selenium\n",
      "  Downloading selenium-4.1.3-py3-none-any.whl (968 kB)\n",
      "\u001b[K     |████████████████████████████████| 968 kB 1.0 MB/s eta 0:00:01\n",
      "\u001b[?25hCollecting trio~=0.17\n",
      "  Downloading trio-0.20.0-py3-none-any.whl (359 kB)\n",
      "\u001b[K     |████████████████████████████████| 359 kB 13.5 MB/s eta 0:00:01\n",
      "\u001b[?25hRequirement already satisfied: urllib3[secure,socks]~=1.26 in /home/shaffer/anaconda3/lib/python3.9/site-packages (from selenium) (1.26.7)\n",
      "Collecting trio-websocket~=0.9\n",
      "  Downloading trio_websocket-0.9.2-py3-none-any.whl (16 kB)\n",
      "Requirement already satisfied: sortedcontainers in /home/shaffer/anaconda3/lib/python3.9/site-packages (from trio~=0.17->selenium) (2.4.0)\n",
      "Requirement already satisfied: async-generator>=1.9 in /home/shaffer/anaconda3/lib/python3.9/site-packages (from trio~=0.17->selenium) (1.10)\n",
      "Requirement already satisfied: sniffio in /home/shaffer/anaconda3/lib/python3.9/site-packages (from trio~=0.17->selenium) (1.2.0)\n",
      "Requirement already satisfied: idna in /home/shaffer/anaconda3/lib/python3.9/site-packages (from trio~=0.17->selenium) (3.2)\n",
      "Requirement already satisfied: attrs>=19.2.0 in /home/shaffer/anaconda3/lib/python3.9/site-packages (from trio~=0.17->selenium) (21.2.0)\n",
      "Collecting outcome\n",
      "  Downloading outcome-1.1.0-py2.py3-none-any.whl (9.7 kB)\n",
      "Collecting wsproto>=0.14\n",
      "  Downloading wsproto-1.1.0-py3-none-any.whl (24 kB)\n",
      "Requirement already satisfied: pyOpenSSL>=0.14 in /home/shaffer/anaconda3/lib/python3.9/site-packages (from urllib3[secure,socks]~=1.26->selenium) (21.0.0)\n",
      "Requirement already satisfied: cryptography>=1.3.4 in /home/shaffer/anaconda3/lib/python3.9/site-packages (from urllib3[secure,socks]~=1.26->selenium) (3.4.8)\n",
      "Requirement already satisfied: certifi in /home/shaffer/anaconda3/lib/python3.9/site-packages (from urllib3[secure,socks]~=1.26->selenium) (2021.10.8)\n",
      "Requirement already satisfied: PySocks!=1.5.7,<2.0,>=1.5.6 in /home/shaffer/anaconda3/lib/python3.9/site-packages (from urllib3[secure,socks]~=1.26->selenium) (1.7.1)\n",
      "Requirement already satisfied: cffi>=1.12 in /home/shaffer/anaconda3/lib/python3.9/site-packages (from cryptography>=1.3.4->urllib3[secure,socks]~=1.26->selenium) (1.14.6)\n",
      "Requirement already satisfied: pycparser in /home/shaffer/anaconda3/lib/python3.9/site-packages (from cffi>=1.12->cryptography>=1.3.4->urllib3[secure,socks]~=1.26->selenium) (2.20)\n",
      "Requirement already satisfied: six>=1.5.2 in /home/shaffer/anaconda3/lib/python3.9/site-packages (from pyOpenSSL>=0.14->urllib3[secure,socks]~=1.26->selenium) (1.16.0)\n",
      "Collecting h11<1,>=0.9.0\n",
      "  Downloading h11-0.13.0-py3-none-any.whl (58 kB)\n",
      "\u001b[K     |████████████████████████████████| 58 kB 894 kB/s  eta 0:00:01\n",
      "\u001b[?25hInstalling collected packages: outcome, h11, wsproto, trio, trio-websocket, selenium\n",
      "Successfully installed h11-0.13.0 outcome-1.1.0 selenium-4.1.3 trio-0.20.0 trio-websocket-0.9.2 wsproto-1.1.0\n"
     ]
    }
   ],
   "source": [
    "# Intalações de bibliotecas selenium:\n",
    "\n",
    "!pip install -U selenium\n"
   ]
  },
  {
   "cell_type": "code",
   "execution_count": 7,
   "id": "8c127007",
   "metadata": {
    "scrolled": false
   },
   "outputs": [
    {
     "name": "stdout",
     "output_type": "stream",
     "text": [
      "\u001b[31mERROR: Could not find a version that satisfies the requirement time (from versions: none)\u001b[0m\r\n",
      "\u001b[31mERROR: No matching distribution found for time\u001b[0m\r\n"
     ]
    }
   ],
   "source": [
    "# não achei a biblioteca time no pip feezer.\n",
    "# observar, no caso de usada, se vai dar bugs\n",
    "\n",
    "!pip install time\n"
   ]
  },
  {
   "cell_type": "markdown",
   "id": "517d10cb",
   "metadata": {},
   "source": [
    "# Importações de Bibliotecas:\n",
    "\n",
    "import pyautogui\n",
    "import time\n",
    "import pyperclip\n",
    "from selenium import webdriver\n",
    "from selenium.webdriver.common.keys import Keys\n",
    "from selenium.webdriver.common.by import By\n",
    "\n",
    "# abrindo pelo OS:\n",
    "\n",
    "pyautogui.PAUSE = 1\n",
    "\n",
    "pyautogui.press('menu')\n",
    "pyautogui.write('chrome')\n",
    "pyautogui.press('enter')\n",
    "\n",
    "\n",
    "\n",
    "#navegadorgoogle = webdriver.Chrome()\n",
    "#navegador.get(\"https://www.google.com/\") # abrindo sem digitar a página no navegador aberto."
   ]
  },
  {
   "cell_type": "code",
   "execution_count": null,
   "id": "dffc34d4",
   "metadata": {},
   "outputs": [],
   "source": [
    "# Importações de Bibliotecas:\n",
    "\n",
    "import pyautogui\n",
    "import time\n",
    "import pyperclip\n",
    "from selenium import webdriver\n",
    "from selenium.webdriver.common.keys import Keys\n",
    "from selenium.webdriver.common.by import By\n",
    "\n"
   ]
  },
  {
   "cell_type": "code",
   "execution_count": 34,
   "id": "6225dd8d",
   "metadata": {},
   "outputs": [],
   "source": [
    "# Fase 1 - Navegador: Caminho 2:\n",
    "\n",
    "navegadorgoogle = webdriver.Chrome()\n",
    "navegadorgoogle.get(\"https://mail.google.com/mail/u/0/?tab=rm&ogbl#inbox\") \n",
    "navegadorgoogle.find_element(By.XPATH, '//*[@id=\"identifierId\"]').send_keys(\"rafalegouveiamelo@gmail.com\")\n",
    "# navegadorgoogle.find_element(By.XPATH, '//*[@id=\"identifierNext\"]/div/button/div[3]').send_keys(Keys.ENTER)\n",
    "\n",
    "# OBS: Automação com o login do google o protege de logar em contas. Logo, não conseguimos entrar no email por este caminho."
   ]
  },
  {
   "cell_type": "code",
   "execution_count": 41,
   "id": "139c62d5",
   "metadata": {},
   "outputs": [
    {
     "data": {
      "text/plain": [
       "Point(x=85, y=180)"
      ]
     },
     "execution_count": 41,
     "metadata": {},
     "output_type": "execute_result"
    }
   ],
   "source": [
    "# pegar posição:\n",
    "time.sleep(10)\n",
    "pyautogui.position()"
   ]
  },
  {
   "cell_type": "code",
   "execution_count": 42,
   "id": "6e622b10",
   "metadata": {},
   "outputs": [],
   "source": [
    "# abrindo pelo OS:\n",
    "\n",
    "pyautogui.PAUSE = 1\n",
    "\n",
    "# fase 1 - abrir navegador Google:\n",
    "\n",
    "pyautogui.click(x=27, y=880)\n",
    "time.sleep(2)\n",
    "pyautogui.write('Google chrome')\n",
    "pyautogui.press('enter')\n",
    "\n",
    "# fase 2 - Entrar no Web Mail:\n",
    "\n",
    "time.sleep(2)\n",
    "pyautogui.click(x=707, y=538)\n",
    "time.sleep(2)\n",
    "pyautogui.click(x=1243, y=104)\n",
    "\n",
    "# fase 3 - abrir novo email:\n",
    "\n",
    "time.sleep(2)\n",
    "pyautogui.click(x=85, y=180)"
   ]
  },
  {
   "cell_type": "code",
   "execution_count": null,
   "id": "315b2dc1",
   "metadata": {},
   "outputs": [],
   "source": []
  }
 ],
 "metadata": {
  "kernelspec": {
   "display_name": "Python 3 (ipykernel)",
   "language": "python",
   "name": "python3"
  },
  "language_info": {
   "codemirror_mode": {
    "name": "ipython",
    "version": 3
   },
   "file_extension": ".py",
   "mimetype": "text/x-python",
   "name": "python",
   "nbconvert_exporter": "python",
   "pygments_lexer": "ipython3",
   "version": "3.9.7"
  }
 },
 "nbformat": 4,
 "nbformat_minor": 5
}
